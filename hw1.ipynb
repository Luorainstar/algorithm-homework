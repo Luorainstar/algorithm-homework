{
 "cells": [
  {
   "cell_type": "markdown",
   "metadata": {},
   "source": [
    "## algorithm design and anlysis-2025 spring  homework 1 \n",
    "**Deadline**：2025.5.14\n",
    "\n",
    "**name**:罗雨欣\n",
    "\n",
    "\n",
    "note：\n",
    "---\n",
    "1. 带有\\*的题目，申请免上课的同学，必须完成，其他同学选作；\n",
    "2. 请独立完成，如求助了他人或者大模型，请著明，并且不可省略算法分析部分；\n",
    "4. 如若作答有雷同，全部取消成绩；\n",
    "3. 需要书面作答的题目，可以通过引用图片的形式添加，但是注意上传项目时包含所引用的图片的源文件；\n",
    "4. $log_n$ 默认表示$log_2{n}$;"
   ]
  },
  {
   "cell_type": "markdown",
   "metadata": {},
   "source": [
    "## 问题 1\n",
    "\n",
    "对于下面的每一对表达式(A, B), A是否能表示为B的 $\\Theta, \\Omega ,O$形式. 请注意, 这些关系中的零个、一个或多个可能成立。列出所有正确的。经常发生一些学生会,把指示写错, 所以请把关系写完整, 例如: $A = O(B),  A =\\Theta(B)$, 或$A = \\Omega(B)$。\n",
    "\n",
    "1. $A=n^2-100n, B=n^2$\n",
    "2. $A=logn, B=log_{1.2}n$\n",
    "3. $A=3^{2n}, B=2^{4n}$\n",
    "4. $A=2^{logn}, B=n$\n",
    "5. $A=\\log{\\log}{n},B=10^{10^{100}}$"
   ]
  },
  {
   "cell_type": "markdown",
   "metadata": {},
   "source": [
    "can refer a handwritten picture, pleas upload the picture in /fig/xxx.png\n",
    "answer:\n",
    "<div align=\"center\"> <img alt=\"图片\" src=\"./fig/hw1-1.png\"> </div>"
   ]
  },
  {
   "cell_type": "markdown",
   "metadata": {},
   "source": [
    "## 问题 2：\n",
    "\n",
    "假设有函数 $f$ 和 $g$ 使得 $f(n)$ = $O(g(n))$ 对于下面的每一个陈述, 请判断对错, 如果正确请给出证明, 否则请给出一个反例。\n",
    "\n",
    "1. $\\log{f(n)}$ = $O(\\log(1+g(n)))$\n",
    "2. $3^{f(n)}=O(3^{g(n)})$\n",
    "3. $(f(n))^2=O((g(n))^2)$ "
   ]
  },
  {
   "cell_type": "markdown",
   "metadata": {},
   "source": [
    "you can refer a handwritten picture, pleas upload the picture in /fig/xxx.png\n",
    "answer:   \n",
    "<div align=\"center\"> <img alt=\"图片\" src=\"./fig/hw1-2.png\"> </div>"
   ]
  },
  {
   "cell_type": "markdown",
   "metadata": {},
   "source": [
    "## 问题 3\n",
    "\n",
    "根据下列递归公式, 计算下列 $T(n)$ 对应的的渐近上界。要求所求的边界尽可能的紧（tight）, 请写明步骤。\n",
    "\n",
    "1. $T(1)=1; T(n)=T(n/4)+1$ for $n>1$\n",
    "2. $T(1)=1;T(n)=3T(n/3)+n^2$ for $n>1$\n",
    "3. $T(1)=1;T(n)=T(2n/3)+1$ for $n>1$\n",
    "4. $T(1)=1;T(n)=5T(n/4)+n$ for $n>1$\n",
    "5. $T(n)=1 \\ for\\ n \\le 2 ; T(n)=T(\\sqrt{n})+1 \\ for \\ n>2$"
   ]
  },
  {
   "cell_type": "markdown",
   "metadata": {},
   "source": [
    "can refer a handwritten picture, pleas upload the picture in /fig/xxx.png\n",
    "answer:   \n",
    "<div align=\"center\"> <img alt=\"图片\" src=\"./fig/hw1-3.png\"> </div>\n",
    "<div align=\"center\"> <img alt=\"图片\" src=\"./fig/hw1-3.2.png\"> </div>"
   ]
  },
  {
   "cell_type": "markdown",
   "metadata": {},
   "source": [
    "## 问题 4：\n",
    "\n",
    "给定一个包含n个元素的数组 `profits` , 它的第 `i` 个元素 `profits[i]` 表示一支股票第 `i` 天的**收益**（正数表示涨, 负数表示跌）。你只能选择 **某一天** 买入这只股票, 并选择在 **未来的某一个不同的日子** 卖出该股票。\n",
    "\n",
    "1. 设计一个算法来计算你所能获取的最大利润和对应买入和卖出的日期。请分析算法方案, 计算其时间复杂度, 并且使用python编程实现该算法。\n",
    "\n",
    "2. \\* 设计一个时间复杂度为 $O(n)$的算法实现该算法\n",
    "\n",
    "e.g. :\n",
    "---\n",
    "profits=[3,2,1,-7,5,2,-1,3,-1], 第5天买入, 第8天卖出, 收益最大：9\n",
    "\n"
   ]
  },
  {
   "cell_type": "markdown",
   "metadata": {},
   "source": [
    "idea:\n",
    "该问题可以视作是最大子数组法 可以用暴力探索法进行解决 遍历所有的子数组求取最大   \n",
    "这里要注意遍历时候的边界问题   \n",
    "因为对于股票而言买入那天就开始收益的 假设第i天买入 j天卖出 我们要算的则是从i到j的最大总和   \n",
    "因为是暴力求解所以这里是遍历完俩个数组 时间复杂度为$O(n^2)$   "
   ]
  },
  {
   "cell_type": "code",
   "execution_count": 19,
   "metadata": {},
   "outputs": [
    {
     "name": "stdout",
     "output_type": "stream",
     "text": [
      "profits= [3, 2, 1, -7, 5, 2, -1, 3, -1]\n",
      "第5天买入, 第8天卖出, 收益最大：9\n"
     ]
    }
   ],
   "source": [
    "# add your code\n",
    "def MaxProfits(profits):\n",
    "    n=len(profits)\n",
    "    max_profits=0\n",
    "    #应该从[0,n-1]   [0,n)\n",
    "    for i in range (0,n):\n",
    "        count=0\n",
    "        for j in range (i,n):\n",
    "            count+=profits[j]\n",
    "            if max_profits<count:\n",
    "                max_profits=count\n",
    "                buy_day=i+1\n",
    "                sell_day=j+1\n",
    "    return max_profits,buy_day,sell_day\n",
    "            \n",
    "def main():\n",
    "    profits=[3,2,1,-7,5,2,-1,3,-1]\n",
    "    max_profits,buy_day,sell_day=MaxProfits(profits)\n",
    "    print(\"profits=\",profits)\n",
    "    print(f\"第{buy_day}天买入, 第{sell_day}天卖出, 收益最大：{max_profits}\")\n",
    "if __name__==\"__main__\":\n",
    "     main()"
   ]
  },
  {
   "cell_type": "markdown",
   "metadata": {},
   "source": [
    "## 问题 5：\n",
    "\n",
    "观察下方的分治算法（divide-and-conquer algorithm）的伪代码, 回答下面问题\n",
    "\n",
    "```latex\n",
    "DoSomething(A,p,r)\n",
    "-----\n",
    "n := r-p+1\n",
    "if n=2 and A[p]>A[r] then\n",
    "    swap A[p] and A[r]\n",
    "else if n >= 3 then\n",
    "    m = ceil(2n/3)\n",
    "    DoSomething(A,p,p+m-1)\n",
    "    DoSomething(A,r-m+1,r)\n",
    "    DoSomething(A,p,p+m-1)  \n",
    "    \n",
    "---\n",
    "first call: DoSomething(A,1,n)\n",
    "```\n",
    "\n",
    "note：$ceil(2n/3)=\\left\\lceil {2n/3} \\right\\rceil$；$:=$ 表示赋值, 等价于 $\\to$；A是一个包含n的整数元素的数组, \n",
    "\n",
    "1. 写出该算法时间复杂度的递归公式, 并求解其对应的渐进表示\n",
    "2. 描述一下该算法的功能, 并判断是否是最高效的解决方案\n",
    "3. 使用python编程实现上述算法或其对应的更高效版本的算法\n"
   ]
  },
  {
   "cell_type": "markdown",
   "metadata": {},
   "source": [
    "idea：\n",
    "1. 写出该算法时间复杂度的递归公式, 并求解其对应的渐进表示  \n",
    "   关于算法时间复杂度的思考 可以按照分治法流程来看待:  \n",
    "   分解的时候：按照m = ceil(2n/3) 将长度为n=r-p+1的数组A[p:r] 分为了俩部分  \n",
    "   前m个元素[p:p+m-1]和后m个元素[r-m+1,r]  \n",
    "   解决问题的时候：是递归处理的三个子问题  \n",
    "   前m个元素 后m个元素 再到前m个元素  \n",
    "   直至元素划分到俩个之间的处理 可以看出来目的是两两比较 大的放右边小的放左边  \n",
    "   递归处理三个子问题就是为了保证排序的准确性 确保全局有序  \n",
    "   开始对时间复杂度进行分析：  \n",
    "   由上述描述  \n",
    "   递归时分为三个子问题，每个规模变为原来的m=⌈2n/3⌉ T(⌈2n/3⌉)  \n",
    "   到最后两两比较处理时应该是 O(1)  \n",
    "   T(n)=3T(⌈2n/3⌉)+O(1)  \n",
    "   这里我们采用主定理进行推导  \n",
    "   a=3(3个子问题)  b=3/2 (每次递归输入规模缩小到2/3 1/b b=3/2)   f(n)=O(1) (每次递归额外工作量)  \n",
    "   $\\log_b a = {\\log_{3/2} 3} = \\frac{\\log 3}{\\log \\frac{3}{2}}$≈$\\frac{0.477}{0.176}$≈2.7\n",
    "   算作case1   \n",
    "   $\\Theta(n^{\\log_{3/2} 3}) \\approx \\Theta(n^{2.7})$ 𝜖=2.7\n",
    "2. 由1的描述看出 最后是为了使全局排序 该算法是将数组A按升序排序的分治排序算法\n",
    "3. 如下code所示"
   ]
  },
  {
   "cell_type": "markdown",
   "metadata": {},
   "source": [
    "answer:\n",
    "1. 该算法时间复杂度的递归公式：T(n)=3T(⌈2n/3⌉)+O(1)   其对应的渐进表示 $\\Theta(n^{\\log_{3/2} 3})$\n",
    "2. 该算法是将数组A按升序排序的分治排序算法"
   ]
  },
  {
   "cell_type": "code",
   "execution_count": 3,
   "metadata": {},
   "outputs": [
    {
     "name": "stdout",
     "output_type": "stream",
     "text": [
      "[1, 1, 2, 3, 4, 5, 6, 9]\n"
     ]
    }
   ],
   "source": [
    "# add your code here\n",
    "# your algorithm time complexity is :\n",
    "import math\n",
    "\n",
    "def DoSomething(A,p,r):\n",
    "    n=r-p+1\n",
    "    if n==2 and A[p]>A[r]:\n",
    "        A[p],A[r]=A[r],A[p]\n",
    "    elif n>=3:\n",
    "        m=math.ceil(2*n/3)\n",
    "        DoSomething(A,p,p+m-1)\n",
    "        DoSomething(A,r-m+1,r)\n",
    "        DoSomething(A,p,p+m-1)\n",
    "\n",
    "A = [3,1,4,1,5,9,2,6]\n",
    "DoSomething(A,0,len(A)-1)\n",
    "print(A)"
   ]
  },
  {
   "cell_type": "markdown",
   "metadata": {},
   "source": [
    "## 问题 6：\n",
    "\n",
    "给定一个大小为 `n` 的数组 `nums` , 返回其中的多数元素。多数元素是指在数组中出现次数 **大于** `⌊ n/2 ⌋` 的元素。\n",
    "\n",
    "你可以假设数组是非空的, 并且给定的数组总是存在多数元素。\n",
    "\n",
    "1. 设计一个算法找到给定数组的多数元素, 分析算法设计思路, 计算算法时间复杂度, 使用python编程实现\n",
    "2. \\* 设计时间复杂度为 O(n)、空间复杂度为 O(1) 的算法解决此问题, 分析算法设计思路, 使用python编程实现\n",
    "\n",
    "e.g.:\n",
    "---\n",
    "1. nums=[3,2,3], 返回3\n",
    "2. nums=[2,2,1,1,1,2,2], 返回2\n"
   ]
  },
  {
   "cell_type": "markdown",
   "metadata": {},
   "source": [
    "idea:\n",
    "题目其实可以抽象为找到数组内元素和其出现的频次之间的映射 故我们这里采用哈希表建立这种映射 其时间复杂度和空间复杂度都是O(n)"
   ]
  },
  {
   "cell_type": "code",
   "execution_count": 23,
   "metadata": {},
   "outputs": [
    {
     "name": "stdout",
     "output_type": "stream",
     "text": [
      "nums= [3, 2, 3] 返回 3\n",
      "nums= [2, 2, 1, 1, 1, 2, 2] 返回 2\n"
     ]
    }
   ],
   "source": [
    "# add your code here\n",
    "# your algorithm time complexity is :O(n)\n",
    "from collections import defaultdict\n",
    "\n",
    "def CountFrequency(nums):\n",
    "    n=len(nums)\n",
    "    frequency=defaultdict(int)\n",
    "    for num in nums:\n",
    "        frequency[num]+=1\n",
    "        #如果已经提前到达可以及时返回 因为这种数只存在一个所以直接return就行\n",
    "        if frequency[num]>n//2:\n",
    "            return num\n",
    "nums1=[3,2,3]\n",
    "print(\"nums=\",nums1,\"返回\",CountFrequency(nums1)) \n",
    "nums2=[2,2,1,1,1,2,2]\n",
    "print(\"nums=\",nums2,\"返回\",CountFrequency(nums2)) "
   ]
  },
  {
   "cell_type": "markdown",
   "metadata": {},
   "source": [
    "## 问题 7：\n",
    "\n",
    "给定一个包含不同整数元素的数组 $ A[1..n]$ ,并且满足条件：$A[1]>A[2]$ 并且 $A[n-1]<A[n]$; 规定：如果一个元素比它两边的邻居元素都小, 即：$A[x]<A[x-1], A[x]<A[x+1]$ , 称这个元素A[x]为“局部最小”。通过遍历一次数组, 我们可以很容易在 $O(n)$的时间复杂度下找到一个局部最小值, \n",
    "\n",
    "\n",
    "1. 分析该问题, 设计一个算法在$O(logn)$的时间复杂度下找到一个局部最小(返回数值), 要求：分析算法设计思路, 并且使用python编程实现\n",
    "2. \\* 设计算法找出所有局部最小值, 分析算法设计思路, 并使用python编程实现\n",
    "\n",
    "e.g.:\n",
    "---\n",
    "A=[9, 3, 7, 2, 1, 4, 5 ] 时,  局部最小元素为 3, 1\n"
   ]
  },
  {
   "cell_type": "markdown",
   "metadata": {},
   "source": [
    "idea：  \n",
    "首先我们只需要找到一个局部最小值 且题目为始终存在局部最小值提出了俩个前置条件 1.为不同整数 2.$A[1]>A[2]$ 并且 $A[n-1]<A[n]$;  \n",
    "这里要求是在$O(logn)$的时间复杂度下找到一个局部最小 对于$O(logn)$其实我们可以条件反射想到二分法   \n",
    "比较中间点与邻居，判断局部最小值在左半边还是右半边\n",
    "$A[mid]>A[mid-1]$，搜索右半边\n",
    "$A[mid]>A[mid+1]$，搜索右半边"
   ]
  },
  {
   "cell_type": "code",
   "execution_count": 11,
   "metadata": {},
   "outputs": [
    {
     "name": "stdout",
     "output_type": "stream",
     "text": [
      "Input:[9, 3, 7, 2, 1, 4, 5], Local Minimum:1\n",
      "Input:[10, 2, 8, 3, 9], Local Minimum:2\n",
      "Input:[5, 3, 4, 2, 8], Local Minimum:3\n"
     ]
    }
   ],
   "source": [
    "# add your code here\n",
    "# your algorithm time complexity is :O(logn)\n",
    "def find_location_min(A):\n",
    "    #先进行检测 要存在局部最小值至少含了3个元素在数组中\n",
    "    n=len(A)\n",
    "    if (n<3):\n",
    "        return None\n",
    "    #取新的左右边界 局部最小不在原边界上  [0,n-1] \n",
    "    left=1\n",
    "    right=n-2\n",
    "    #开始判断\n",
    "    while (left<=right):\n",
    "        mid=(left+right)//2\n",
    "        if (A[mid]<A[mid-1] and A[mid]<A[mid+1]):\n",
    "            return A[mid]\n",
    "        elif A[mid]>A[mid-1]:\n",
    "            right=mid-1\n",
    "        else:\n",
    "            left=mid+1\n",
    "    return None\n",
    "\n",
    "if __name__ == \"__main__\":\n",
    "    test_cases=[\n",
    "        [9,3,7,2,1,4,5], \n",
    "        [10,2,8,3,9],       \n",
    "        [5,3,4,2,8],              \n",
    "    ]\n",
    "    for A in test_cases:\n",
    "        result=find_location_min(A)\n",
    "        print(f\"Input:{A}, Local Minimum:{result}\")\n",
    "    "
   ]
  },
  {
   "cell_type": "markdown",
   "metadata": {},
   "source": [
    "idea:\n",
    "要找到所有局部最小值 我们采取遍历整个数组的方法 但这里注意边界 还是不取原边界\n",
    "因为遍历完所有 故这里我们的复杂度为O(n)"
   ]
  },
  {
   "cell_type": "code",
   "execution_count": 13,
   "metadata": {},
   "outputs": [
    {
     "name": "stdout",
     "output_type": "stream",
     "text": [
      "Input:[9, 3, 7, 2, 1, 4, 5], All Minimum:[3, 1]\n",
      "Input:[10, 2, 8, 3, 9], All Minimum:[2, 3]\n",
      "Input:[5, 3, 4, 2, 8], All Minimum:[3, 2]\n"
     ]
    }
   ],
   "source": [
    "# add your code here\n",
    "# your algorithm time complexity is :O(n)\n",
    "def find_all_min(A):\n",
    "    #先进行检测 要存在局部最小值至少含了3个元素在数组中\n",
    "    n=len(A)\n",
    "    allmix=[]\n",
    "    if (n<3):\n",
    "        return None\n",
    "    #取新的左右边界 局部最小不在原边界上  [0,n-1]  应该取[1,n-2] 这里左闭右开 取[1,n-1)\n",
    "    for i in range(1,n-1):\n",
    "        if (A[i]<A[i-1] and A[i]<A[i+1]):\n",
    "            allmix.append(A[i])\n",
    "    return allmix\n",
    "            \n",
    "if __name__ == \"__main__\":\n",
    "    test_cases=[\n",
    "        [9,3,7,2,1,4,5], \n",
    "        [10,2,8,3,9],       \n",
    "        [5,3,4,2,8],                \n",
    "    ]\n",
    "    for A in test_cases:\n",
    "        result=find_all_min(A)\n",
    "        print(f\"Input:{A}, All Minimum:{result}\")\n",
    "        "
   ]
  },
  {
   "cell_type": "markdown",
   "metadata": {},
   "source": [
    "## 问题 8：\n",
    "\n",
    "给定包含n个不同数字的一组数, 寻找一种基于比较的算法在这组数中找到k个最小的数字, 并按顺序输出它们。\n",
    "\n",
    "1. 将n个数先进行排序, 然后按顺序输出最小的k个数。要求：选择合适的排序算法实现上述操作, 计算算法时间复杂度, 并使用python编程实现。\n",
    "2. 建立一个包含这n个数的堆（heap）, 并且调用 k 次Extract-min 按顺序输出最小的k个数。使用往空堆中不断插入元素的方法建立堆, 分析这种方法建堆的时间复杂度, 并使用python编程实现\n",
    "3. \\* 假设数组中包含的数据总数目超过了计算机的存储能力, 请设计一个算法, 找到这堆数据的前k小的数值, 计算时间复杂度, 并使用python实现该算法, 假设计算机一定能存储k个数据。\n",
    "\n",
    "e.g.：\n",
    "---\n",
    "数组arr=[5,4,3,2,6,1,88,33,22,107] 的前3个最小数据为：1, 2, 3\n"
   ]
  },
  {
   "cell_type": "markdown",
   "metadata": {},
   "source": [
    "idea：\n",
    "1. 基于比较的排序算法有很多种 这里我选的是归并排序\n",
    "   归并排序的时间复杂度相对于其他的排序算法要好一些 为O(nlogn)\n",
    "   这里我们相当于对n个数采用归并排序再取前k个即可 每次O(1) k次则为O(k)\n",
    "   总时间复杂度省去小的就为O(nlogn)\n",
    "3. 最小堆加取k次堆顶 最小堆本质上还是由数组实现的\n",
    "   时间复杂度的计算：\n",
    "   每次插入元素需要逐个上浮 O(logn) 总共就是O(nlogn)\n",
    "   要执行k次找最小数 则是 O(klogn)\n",
    "   总时间复杂度：O((n+k)logn)"
   ]
  },
  {
   "cell_type": "code",
   "execution_count": 42,
   "metadata": {},
   "outputs": [
    {
     "name": "stdout",
     "output_type": "stream",
     "text": [
      "数组arr=[5, 4, 3, 2, 6, 1, 88, 33, 22, 107] 的前4个最小数据为：[1, 2, 3, 4]\n"
     ]
    }
   ],
   "source": [
    "# add your code here\n",
    "# your algorithm time complexity is :O(nlogn)\n",
    "def MergeSort(arr):\n",
    "    #小于等于一已经排好有序\n",
    "    if len(arr)<=1:\n",
    "        return arr\n",
    "    #否则要先递归拆分数组再合并 分治思想\n",
    "    mid=len(arr)//2\n",
    "    #左半边\n",
    "    left_arr=arr[:mid]\n",
    "    #右半边\n",
    "    right_arr=arr[mid:]\n",
    "    #接着递归拆 直至里面拆的元素有序\n",
    "    left=MergeSort(left_arr)\n",
    "    right=MergeSort(right_arr)\n",
    "    #合并有序部分\n",
    "    return Merge(left, right) \n",
    "def Merge(left, right):\n",
    "    result=[]\n",
    "    i=j=0\n",
    "    #开始用左右指针访问元素\n",
    "    while i <len(left) and j<len(right):\n",
    "        if left[i]<right[j]:\n",
    "            result.append(left[i])\n",
    "            i=i+1\n",
    "        else:\n",
    "            result.append(right[j])\n",
    "            j=j+1\n",
    "    #剩下的拼接上去就行\n",
    "    result.extend(left[i:])\n",
    "    result.extend(right[j:])\n",
    "    return result\n",
    "def find_k_smallest(arr,k):\n",
    "    sorted_arr=MergeSort(arr)\n",
    "    return sorted_arr[:k]\n",
    "arr=[5,4,3,2,6,1,88,33,22,107]\n",
    "k=4\n",
    "print(f\"数组arr={arr} 的前{k}个最小数据为：{find_k_smallest(arr,k)}\")"
   ]
  },
  {
   "cell_type": "code",
   "execution_count": 43,
   "metadata": {},
   "outputs": [
    {
     "name": "stdout",
     "output_type": "stream",
     "text": [
      "数组arr=[5, 4, 3, 2, 6, 1, 88, 33, 22, 107] 的前4个最小数据为：[1, 2, 3, 4]\n"
     ]
    }
   ],
   "source": [
    "# add your code here\n",
    "# your algorithm time complexity is :O((n+k)logn)\n",
    "class MinHeap:\n",
    "    def __init__(self):\n",
    "        self.heap=[]\n",
    "    def Insert(self,val):\n",
    "        #上浮插入先放在数组最后\n",
    "        self.heap.append(val)\n",
    "        #id：len(self.heap())-1\n",
    "        self.SiftUp(len(self.heap)-1)\n",
    "    def SiftUp(self,idx):\n",
    "        #完全二叉树性质小顶堆 小的往上 大的往下\n",
    "        parent=(idx-1)//2\n",
    "        #跟父节点比较 小的往上面移动\n",
    "        while idx>0 and self.heap[idx]<self.heap[parent]:\n",
    "            #swap=self.heap[idx]\n",
    "            #self.heap[idx]=self.heap[parent]\n",
    "            #self.heap[parent]=swap\n",
    "            self.heap[idx],self.heap[parent]=self.heap[parent],self.heap[idx]\n",
    "            self.SiftUp(parent)\n",
    "    def GetMin(self):\n",
    "        #先判断是否为空\n",
    "        if not self.heap:\n",
    "            return None\n",
    "        #先提取出来\n",
    "        min_val=self.heap[0]\n",
    "        #为还原堆 取最后一个元素 再下移\n",
    "        self.heap[0]=self.heap[-1]\n",
    "        #扔出堆顶 开始重构\n",
    "        self.heap.pop()\n",
    "        #从堆顶开始 因为是把堆顶开始下移还原堆\n",
    "        self.SiftDown(0)\n",
    "        return min_val\n",
    "    def SiftDown(self,idx):\n",
    "        left_child=2*idx+1\n",
    "        right_child=2*idx+2\n",
    "        while(left_child<len(self.heap) and right_child<len(self.heap)):\n",
    "            if (self.heap[left_child]<self.heap[right_child] and self.heap[left_child]<self.heap[idx]):\n",
    "                self.heap[left_child],self.heap[idx]=self.heap[idx],self.heap[left_child]\n",
    "                self.SiftDown(left_child)\n",
    "            elif (self.heap[right_child]<self.heap[left_child] and self.heap[right_child]<self.heap[idx]):\n",
    "                self.heap[right_child],self.heap[idx]=self.heap[idx],self.heap[right_child]\n",
    "                self.SiftDown(right_child)\n",
    "            #说明此时位置本来就符合都比子节点小 调试到了适合的位置\n",
    "            else:\n",
    "                break\n",
    "def find_k_smallest(arr,k):\n",
    "    heap=MinHeap()\n",
    "    for item in arr:\n",
    "        heap.Insert(item)\n",
    "    result=[]\n",
    "    for i in range (k):\n",
    "        result.append(heap.GetMin())\n",
    "    return result\n",
    "    \n",
    "arr=[5, 4, 3, 2, 6, 1, 88, 33, 22, 107]    \n",
    "k=4\n",
    "print(f\"数组arr={arr} 的前{k}个最小数据为：{find_k_smallest(arr,k)}\")                 "
   ]
  },
  {
   "cell_type": "markdown",
   "metadata": {},
   "source": [
    "## 问题 9：\n",
    "\n",
    "**选择问题**:给定一个包含n个未排序值的数组A和一个$k≤n$的整数, 返回A中最小的第k项。\n",
    "\n",
    "在课堂上, 学了一个简单的O(n)随机算法来解决选择问题。事实上还有一种更复杂的最坏情况下时间复杂度为$O(n)$ 的选择算法。假设使用一个黑盒过程来实现这个O(n)选择算法: 给定一个数组A、 $p < r$ 和 k,  $BB(A, p, r, k)$ 可以在$O(r−p+ 1)$时间内找到并报告$A[p..r]$中第k小的项的下标。假设你可以在线性时间内处理Partition过程。\n",
    "\n",
    "1. 请分析如何修改 Quicksork 算法可以使其最差情况下的运行时间为 $O(nlogn)$, 使用伪代码实现, 并分析为何修改后的版本最差情况的运行时间为$O(nlogn)$\n",
    "\n",
    "note: 伪代码中, 你可以直接调用用` BB(A,p,r,k)`这个函数用于表示在最坏情况下时间复杂度为$O(n)$的选择算法；\n",
    "\n",
    "\n",
    "\n",
    "2. 找到一个更好的算法报告数组A中的前k小的项, 使用伪代码表示你的算法, 并分析你算法的时间复杂度。\n",
    "\n",
    "举例：A=[13, 3, 7, 9, 11, 1, 15, 2, 8, 10, 12, 16, 14, 5], 当k=4时, 应该报告1, 2, 3, 4\n",
    "\n",
    "note： 最直观的方法就是先将数组A排序, 然后从左向右报告其前k项, 这样操作的时间复杂度为$O(nlogn)$. 调用用` BB(A,p,r,k)`设计一个算法使其报告无序数组A的前k项, 满足时间复杂度好于$\\Theta(nlogn)$, 并且当$k=\\sqrt{n}$时, 你设计的算法时间复杂度应该为$\\Theta(n)$.\n",
    "\n",
    "\n",
    "\n",
    "3. 给定一个大小为n的数组, 找到一个 时间复杂度为$O(n log k)$ 的算法, 该算法将A中的元素重新排序, 使它们被划分为k个部分, 每个部分的元素小于或等于下一部分的元素。假设n和k都是2的幂。使用伪代码表示你的算法, 并分析时间复杂度。\n",
    "\n",
    "e.g.:\n",
    "---\n",
    "数组：[1,  3,  5,  7,  9,  11,  13,  15,  2,  4,  6,  8,  10,  12,  16,  14], k=4, \n",
    "\n",
    "对应重新排序的数组为：[1,  3,  2,  4]  [7,  6,  5,  8]  [12,  11,  10,  9]  [13,  14,  16,  15]\n",
    "\n",
    "\n"
   ]
  },
  {
   "cell_type": "markdown",
   "metadata": {},
   "source": [
    "idea：\n",
    "1. 快排主要是会选一个标杆，对于标杆而言小的放它左边 大的放它右边 但是如果标杆选的不好的话可能每次只能分出一个固定有序的导致时间复杂度为O(n²)(最差情况)\n",
    "   原本的快排通常会直接选第一个或者最后一个元素当基准pivot（便于递归） 这里我们修改一下它的基准元素去找中位数 去利用BB找中间数 避免选到极端情况只能分一个出来\n",
    "   这样的话即使最坏 递归树的高度就为O(logn) 每层为O(n) 修改后的版本最差情况的运行时间为(O(nlogn))\n",
    "2. 要找到一个更好的算法报告数组A中的前k小的项 这里只要k个那我们可以先利用BB算法先找到第k小索引 找到对应值到底是什么 再从原数组里面筛掉即可\n",
    "   这样我们找到第k小元素只需要O(n) 遍历数组也是O(n) 总的时间复杂度就是O(n) \n",
    "3. 按照第一题的求解思路走一直分 分k次   \n",
    "   根据段数分界点然后从数组中找到中位数 再去划分分成俩部分 左右再继续划分成k/2 一直递归即可\n",
    "   关于每层花费的时间复杂度 调用BB用了O(n) partition函数调用划分也是O(n) 这里左右俩部分继续划分成k/2就是logk\n",
    "   所以总的应该是O(nlogk)"
   ]
  },
  {
   "cell_type": "code",
   "execution_count": null,
   "metadata": {},
   "outputs": [],
   "source": [
    "# add your pseudo-code here\n",
    "# q1:用BB找中位数作为pivot 时间复杂度为(O(nlogn))\n",
    "ModifiedQucikSort(A,p,r):\n",
    "    #截止条件为p>=r 说明划分到只有一个了 有序了\n",
    "    if p<r:\n",
    "        #用BB找到中位数作为pivot\n",
    "        median_index=BB(A,p,r,(r-p+1)//2)\n",
    "        #A[median_index],A[r]=A[r],A[median_index]\n",
    "        swap(A[median_index],A[r])\n",
    "        #快排关键所在 q为最终分出来的位置 q的左边都小 右边都大\n",
    "        q=Partition(A,p,r)\n",
    "        ModifiedQucikSort(A,p,q-1)\n",
    "        ModifiedQucikSort(A,q+1,r)\n",
    "Partition(A,p,r):\n",
    "    #这里取最后一个当基准\n",
    "    pivot=A[r]\n",
    "    i=p-1\n",
    "    for j=p to r-1:\n",
    "        if A[j]<=pivot:\n",
    "            i=i+1\n",
    "            swap(A[i],A[j]) \n",
    "    swap(A[i+1], A[j]) \n",
    "    return i+1\n",
    "#q2  报告数组A中的前k小的项 时间复杂度O(n)\n",
    "FindKSmall(A,k):\n",
    "    k_index=BB(A,0,len(A)-1,k)\n",
    "    k_value=A[k_index]\n",
    "    result=[]\n",
    "    for min_k in A:\n",
    "        if x<k_value:\n",
    "            result.append(x)\n",
    "    #最好要把临界的补上去\n",
    "    result.append(k_value)\n",
    "    return result\n",
    "#q3 A分为k个部分, 每个部分的元素小于或等于下一部分的元素 时间复杂度为O(nlogk) 参考了大模型思路自己再重新编代码\n",
    "DivideAndPartition(A,left,right,k):\n",
    "    #为1直接返回就是\n",
    "    if k==1:\n",
    "        return\n",
    "    m=k//2\n",
    "    n=right-left+1\n",
    "    #在A中找到(m*n)//k对应的下标\n",
    "    index=BB(A,left,right,(m*n)//k)\n",
    "    swap(A[index],A[right])\n",
    "    q=Partition(A,left,right)\n",
    "    DivideAndPartition((A,left,q-1,m))\n",
    "    DivideAndPartition((A,q+1,right,k-m))"
   ]
  },
  {
   "cell_type": "markdown",
   "metadata": {},
   "source": [
    "## 问题 10：\n",
    "\n",
    "给定一个包含m个**字符串**的数组A, 其中不同的字符串可能有不同的字符数, 但数组中所有字符串的字符总数为n。设计一个算法在 $O(n)$ 时间内对字符串进行排序, 分析算法设计方案, 计算其时间复杂度, 并基于python编程实现该算法。请注意, 假设字符串只包含\"a\",\"b\",...,\"z\", \n",
    "\n",
    "\n",
    "\n",
    "举例1：数组A=[\"a\", \"da\", \"bde\", \"ab\", \"bc\", \"abdc\", \"cdba\"], 排序后的数组应该为：['a', 'ab', 'abdc', 'bc', 'bde', 'cdba', 'da']\n",
    "\n",
    "\n",
    "\n",
    "举例2：数组A=['ab', 'a', 'b', 'abc', 'ba', 'c'], 排序后的数组应该为：\n",
    "\n",
    "['a', 'ab', 'abc', 'b', 'ba', 'c']\n",
    "\n",
    "\n",
    "\n",
    "举例3：数组A=['aef', 'yzr', 'wr', 'ab', 'bhjc', 'lkabdc', 'pwcdba'],  排序后的数组应该为：['ab', 'aef', 'bhjc', 'lkabdc', 'pwcdba', 'wr', 'yzr']\n",
    "\n",
    "\n",
    "\n",
    "note：\n",
    "\n",
    "-  两个字符之间的比较可以考虑比较他们对应的ASCII码值；\n",
    "- python中可以使用`ord(\"a\")`返回字符 “a”对应的ASCII值"
   ]
  },
  {
   "cell_type": "markdown",
   "metadata": {},
   "source": [
    "idea:\n",
    "我们可以使用字典树：Trie树 因为它本身就是高效存储和查找字符串的树结构 很适用在我们这个排序字符串情境 因为它内部也在按照字母顺序组织   \n",
    "先构建树 主要是构建之后其实再遍历 遍历的时候按排序遍历 就能很好的完成我们想要的结果 它天然会按abcd这种顺序构建树 根据结束符先后打印 就能很好排序   \n",
    "时间复杂度：   \n",
    "构建字典树时候每个插入都是O(1) 共有n个字符则是O(n)    \n",
    "遍历的话所有拼接字符数总和为n 访问也是n个 也是O(n)   \n",
    "总的来说的时间复杂度应该也是O(n)"
   ]
  },
  {
   "cell_type": "code",
   "execution_count": 58,
   "metadata": {},
   "outputs": [
    {
     "name": "stdout",
     "output_type": "stream",
     "text": [
      "数组A=['a', 'da', 'bde', 'ab', 'bc', 'abdc', 'cdba'], 排序后的数组应该为：['a', 'ab', 'abdc', 'bc', 'bde', 'cdba', 'da']\n",
      "数组A=['ab', 'a', 'b', 'abc', 'ba', 'c'], 排序后的数组应该为：['a', 'ab', 'abc', 'b', 'ba', 'c']\n",
      "数组A=['aef', 'yzr', 'wr', 'ab', 'bhjc', 'lkabdc', 'pwcdba'], 排序后的数组应该为：['ab', 'aef', 'bhjc', 'lkabdc', 'pwcdba', 'wr', 'yzr']\n"
     ]
    }
   ],
   "source": [
    "# add your code here\n",
    "# your algorithm time complexity is :O(n)\n",
    "#定义字典树节点\n",
    "class TrieNode:\n",
    "    def __init__(self):\n",
    "        #每个节点我们都可以用字典存储他的子节点\n",
    "        self.children={}\n",
    "        #看是否结尾\n",
    "        self.is_end=False\n",
    "#定义字典树\n",
    "class Trie:\n",
    "    def __init__(self):\n",
    "        #初始化时定义好根节点\n",
    "        self.root=TrieNode()\n",
    "    #对于字符串一个个组装\n",
    "    def Insert(self,string):\n",
    "        node=self.root\n",
    "        #遍历好字符串里面的每一个字符\n",
    "        for char in string:\n",
    "            if char not in node.children:\n",
    "                #没有这个字符则建立子节点映射\n",
    "                node.children[char]=TrieNode()\n",
    "            #移动到下一个\n",
    "            node=node.children[char]\n",
    "        #遍历完则算是结束\n",
    "        node.is_end=True\n",
    "    #用深度优先遍历 node为从那个指定的起点开始遍历 pass_path为经过的字符串\n",
    "    def dfs(self,node=None,pass_path=\"\",result=None):\n",
    "        #最开始要初始化\n",
    "        if result is None:\n",
    "            result=[]\n",
    "        if node is None:\n",
    "            node=self.root\n",
    "        #如果遇到结束表示 把经过字符串加入result\n",
    "        if node.is_end:\n",
    "            result.append(pass_path) \n",
    "        #!!!!!!!!!!!!关键处 遍历是按照顺序来的\n",
    "        for char in sorted(node.children.keys()):\n",
    "            self.dfs(node.children[char], pass_path + char, result)  \n",
    "        return result\n",
    "def trie_sort(strings):\n",
    "    trie = Trie()\n",
    "    for string in strings:\n",
    "        trie.Insert(string) \n",
    "    return trie.dfs()    \n",
    "#测试结果\n",
    "A=[\"a\", \"da\", \"bde\", \"ab\", \"bc\", \"abdc\", \"cdba\"]\n",
    "sorted_A = trie_sort(A)\n",
    "print(f\"数组A={A}, 排序后的数组应该为：{sorted_A}\")\n",
    "A=['ab', 'a', 'b', 'abc', 'ba', 'c']\n",
    "sorted_A = trie_sort(A)\n",
    "print(f\"数组A={A}, 排序后的数组应该为：{sorted_A}\")\n",
    "A=['aef', 'yzr', 'wr', 'ab', 'bhjc', 'lkabdc', 'pwcdba']\n",
    "sorted_A = trie_sort(A)\n",
    "print(f\"数组A={A}, 排序后的数组应该为：{sorted_A}\")"
   ]
  }
 ],
 "metadata": {
  "kernelspec": {
   "display_name": "Python 3.11 (jpenv)",
   "language": "python",
   "name": "jpenv"
  },
  "language_info": {
   "codemirror_mode": {
    "name": "ipython",
    "version": 3
   },
   "file_extension": ".py",
   "mimetype": "text/x-python",
   "name": "python",
   "nbconvert_exporter": "python",
   "pygments_lexer": "ipython3",
   "version": "3.11.2"
  }
 },
 "nbformat": 4,
 "nbformat_minor": 4
}
